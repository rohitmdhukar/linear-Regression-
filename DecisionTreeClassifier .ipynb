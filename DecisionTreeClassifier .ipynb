{
 "cells": [
  {
   "cell_type": "code",
   "execution_count": 1,
   "id": "22094f54",
   "metadata": {},
   "outputs": [],
   "source": [
    "import numpy as np \n",
    "import pandas as pd "
   ]
  },
  {
   "cell_type": "code",
   "execution_count": 2,
   "id": "426f7045",
   "metadata": {},
   "outputs": [],
   "source": [
    "df = pd.read_csv(\"C:\\\\Users\\\\saurabh\\\\Desktop\\\\pyth\\\\Social_Network_Ads.csv\")"
   ]
  },
  {
   "cell_type": "code",
   "execution_count": 3,
   "id": "365c2715",
   "metadata": {},
   "outputs": [
    {
     "data": {
      "text/html": [
       "<div>\n",
       "<style scoped>\n",
       "    .dataframe tbody tr th:only-of-type {\n",
       "        vertical-align: middle;\n",
       "    }\n",
       "\n",
       "    .dataframe tbody tr th {\n",
       "        vertical-align: top;\n",
       "    }\n",
       "\n",
       "    .dataframe thead th {\n",
       "        text-align: right;\n",
       "    }\n",
       "</style>\n",
       "<table border=\"1\" class=\"dataframe\">\n",
       "  <thead>\n",
       "    <tr style=\"text-align: right;\">\n",
       "      <th></th>\n",
       "      <th>User ID</th>\n",
       "      <th>Gender</th>\n",
       "      <th>Age</th>\n",
       "      <th>EstimatedSalary</th>\n",
       "      <th>Purchased</th>\n",
       "    </tr>\n",
       "  </thead>\n",
       "  <tbody>\n",
       "    <tr>\n",
       "      <th>0</th>\n",
       "      <td>15624510</td>\n",
       "      <td>Male</td>\n",
       "      <td>19</td>\n",
       "      <td>19000</td>\n",
       "      <td>0</td>\n",
       "    </tr>\n",
       "    <tr>\n",
       "      <th>1</th>\n",
       "      <td>15810944</td>\n",
       "      <td>Male</td>\n",
       "      <td>35</td>\n",
       "      <td>20000</td>\n",
       "      <td>0</td>\n",
       "    </tr>\n",
       "    <tr>\n",
       "      <th>2</th>\n",
       "      <td>15668575</td>\n",
       "      <td>Female</td>\n",
       "      <td>26</td>\n",
       "      <td>43000</td>\n",
       "      <td>0</td>\n",
       "    </tr>\n",
       "    <tr>\n",
       "      <th>3</th>\n",
       "      <td>15603246</td>\n",
       "      <td>Female</td>\n",
       "      <td>27</td>\n",
       "      <td>57000</td>\n",
       "      <td>0</td>\n",
       "    </tr>\n",
       "    <tr>\n",
       "      <th>4</th>\n",
       "      <td>15804002</td>\n",
       "      <td>Male</td>\n",
       "      <td>19</td>\n",
       "      <td>76000</td>\n",
       "      <td>0</td>\n",
       "    </tr>\n",
       "  </tbody>\n",
       "</table>\n",
       "</div>"
      ],
      "text/plain": [
       "    User ID  Gender  Age  EstimatedSalary  Purchased\n",
       "0  15624510    Male   19            19000          0\n",
       "1  15810944    Male   35            20000          0\n",
       "2  15668575  Female   26            43000          0\n",
       "3  15603246  Female   27            57000          0\n",
       "4  15804002    Male   19            76000          0"
      ]
     },
     "execution_count": 3,
     "metadata": {},
     "output_type": "execute_result"
    }
   ],
   "source": [
    "df.head() "
   ]
  },
  {
   "cell_type": "code",
   "execution_count": 4,
   "id": "dfe6f265",
   "metadata": {},
   "outputs": [],
   "source": [
    "df = df.drop(columns = ['User ID' , 'Gender']) \n"
   ]
  },
  {
   "cell_type": "code",
   "execution_count": 5,
   "id": "1bde95ad",
   "metadata": {},
   "outputs": [],
   "source": [
    "from sklearn.model_selection import train_test_split "
   ]
  },
  {
   "cell_type": "code",
   "execution_count": 12,
   "id": "1bd7471e",
   "metadata": {},
   "outputs": [],
   "source": [
    "x = df.drop(columns = ['Purchased'])\n",
    "y = df['Purchased']"
   ]
  },
  {
   "cell_type": "code",
   "execution_count": 13,
   "id": "a9ec67c4",
   "metadata": {},
   "outputs": [],
   "source": [
    "x_train , x_test, y_train , y_test = train_test_split(x,y,test_size = 0.2 , random_state = 0)"
   ]
  },
  {
   "cell_type": "code",
   "execution_count": 14,
   "id": "ae6ca817",
   "metadata": {},
   "outputs": [],
   "source": [
    "from sklearn.preprocessing import StandardScaler "
   ]
  },
  {
   "cell_type": "code",
   "execution_count": 15,
   "id": "858cc067",
   "metadata": {},
   "outputs": [],
   "source": [
    "sc = StandardScaler() "
   ]
  },
  {
   "cell_type": "code",
   "execution_count": 16,
   "id": "fcb35c67",
   "metadata": {},
   "outputs": [],
   "source": [
    "x_train_new = sc.fit_transform(x_train) "
   ]
  },
  {
   "cell_type": "code",
   "execution_count": 17,
   "id": "724a1013",
   "metadata": {},
   "outputs": [],
   "source": [
    "x_test_new = sc.transform(x_test) "
   ]
  },
  {
   "cell_type": "code",
   "execution_count": 18,
   "id": "54c23a67",
   "metadata": {},
   "outputs": [],
   "source": [
    "from sklearn.tree import DecisionTreeClassifier "
   ]
  },
  {
   "cell_type": "code",
   "execution_count": 19,
   "id": "a96e843d",
   "metadata": {},
   "outputs": [],
   "source": [
    "dt = DecisionTreeClassifier(criterion = 'entropy' , random_state = 0) "
   ]
  },
  {
   "cell_type": "code",
   "execution_count": 21,
   "id": "941198f0",
   "metadata": {},
   "outputs": [
    {
     "data": {
      "text/plain": [
       "DecisionTreeClassifier(criterion='entropy', random_state=0)"
      ]
     },
     "execution_count": 21,
     "metadata": {},
     "output_type": "execute_result"
    }
   ],
   "source": [
    "dt.fit(x_train_new , y_train) \n"
   ]
  },
  {
   "cell_type": "markdown",
   "id": "43ab317f",
   "metadata": {},
   "source": [
    "# \"criterion='entropy': Criterion is used to measure the quality of split, which is calculated by information gain given by entropy."
   ]
  },
  {
   "cell_type": "code",
   "execution_count": 22,
   "id": "2db18983",
   "metadata": {},
   "outputs": [],
   "source": [
    "y_pred = dt.predict(x_test_new) "
   ]
  },
  {
   "cell_type": "code",
   "execution_count": 23,
   "id": "fe0cfdbe",
   "metadata": {},
   "outputs": [],
   "source": [
    "from sklearn.metrics import confusion_matrix "
   ]
  },
  {
   "cell_type": "code",
   "execution_count": 24,
   "id": "211f9495",
   "metadata": {},
   "outputs": [],
   "source": [
    "cm = confusion_matrix(y_test , y_pred) "
   ]
  },
  {
   "cell_type": "code",
   "execution_count": 25,
   "id": "5b0538af",
   "metadata": {},
   "outputs": [
    {
     "data": {
      "text/plain": [
       "array([[53,  5],\n",
       "       [ 3, 19]], dtype=int64)"
      ]
     },
     "execution_count": 25,
     "metadata": {},
     "output_type": "execute_result"
    }
   ],
   "source": [
    "cm"
   ]
  },
  {
   "cell_type": "code",
   "execution_count": null,
   "id": "dd057314",
   "metadata": {},
   "outputs": [],
   "source": []
  }
 ],
 "metadata": {
  "kernelspec": {
   "display_name": "Python 3 (ipykernel)",
   "language": "python",
   "name": "python3"
  },
  "language_info": {
   "codemirror_mode": {
    "name": "ipython",
    "version": 3
   },
   "file_extension": ".py",
   "mimetype": "text/x-python",
   "name": "python",
   "nbconvert_exporter": "python",
   "pygments_lexer": "ipython3",
   "version": "3.9.12"
  }
 },
 "nbformat": 4,
 "nbformat_minor": 5
}
